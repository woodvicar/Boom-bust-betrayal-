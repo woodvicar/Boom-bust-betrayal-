{
 "cells": [
  {
   "cell_type": "code",
   "execution_count": null,
   "metadata": {},
   "outputs": [],
   "source": [
    "import pandas as pd\n",
    "import os\n",
    "import numpy as np\n",
    "import seaborn as sn\n",
    "import matplotlib.pyplot as plt\n",
    "from IPython.display import display\n",
    "pd.options.display.max_columns = None\n",
    "os. getcwd() "
   ]
  },
  {
   "cell_type": "code",
   "execution_count": null,
   "metadata": {},
   "outputs": [],
   "source": [
    "df = pd.read_csv('dataset.csv')"
   ]
  },
  {
   "cell_type": "code",
   "execution_count": null,
   "metadata": {},
   "outputs": [],
   "source": [
    "#convert date format \n",
    "from datetime import datetime  \n",
    "df[\"Class Period Start\"] = pd.to_datetime(df[\"Class Period Start\"]).dt.strftime(\"%Y-%m-%d\")\n",
    "df[\"Class Period End\"] = pd.to_datetime(df[\"Class Period End\"]).dt.strftime(\"%Y-%m-%d\")\n",
    "df[\"Filing Date\"] = pd.to_datetime(df[\"Filing Date\"]).dt.strftime(\"%Y-%m-%d\")\n",
    "\n",
    "#drop what is unnecesary\n",
    "df=df.drop(columns=['Filing Date.1'])"
   ]
  },
  {
   "cell_type": "code",
   "execution_count": null,
   "metadata": {},
   "outputs": [],
   "source": [
    "#industry and sector dummies\n",
    "df = pd.get_dummies(df, columns=['Sector'])\n",
    "df = pd.get_dummies(df, columns=['Industry'])\n",
    "#monthly \n",
    "df['month'] = pd.DatetimeIndex(df['Class Period Start']).month\n",
    "df = pd.get_dummies(df, columns=['month'])"
   ]
  },
  {
   "cell_type": "code",
   "execution_count": null,
   "metadata": {},
   "outputs": [],
   "source": [
    "s_columns=[x for x in df.columns if 'Sector' in x]\n",
    "len(s_columns)"
   ]
  },
  {
   "cell_type": "code",
   "execution_count": null,
   "metadata": {},
   "outputs": [],
   "source": [
    "i_columns=[x for x in df.columns if 'Industry' in x]\n",
    "len(i_columns)"
   ]
  },
  {
   "cell_type": "code",
   "execution_count": null,
   "metadata": {},
   "outputs": [],
   "source": [
    "#distribution among sectors\n",
    "#for industries, use i_columns\n",
    "df_s=df[s_columns].sum().sort_values(ascending=False)\n",
    "df_s=pd.DataFrame(df_s, columns=['Absolute'])\n",
    "df_s['Percentage']=df_s/df.shape[0]*100\n",
    "df_s"
   ]
  },
  {
   "cell_type": "code",
   "execution_count": null,
   "metadata": {},
   "outputs": [],
   "source": [
    "#plot the sector distribution over time\n",
    "dft=pd.melt(df[s_columns+['Class Period Start']],id_vars='Class Period Start')\n",
    "dft=pd.pivot_table(dft, index='Class Period Start', columns='variable', values='value', aggfunc=np.sum)\n",
    "dft.plot(figsize=(25,25))"
   ]
  },
  {
   "cell_type": "code",
   "execution_count": null,
   "metadata": {},
   "outputs": [],
   "source": [
    "#resample to yearly data\n",
    "dft = dft.set_index(pd.DatetimeIndex(dft.index))\n",
    "df_agg=dft.resample('1Y').sum()\n",
    "df_agg.plot(figsize=(25,25))"
   ]
  },
  {
   "cell_type": "code",
   "execution_count": null,
   "metadata": {},
   "outputs": [],
   "source": [
    "#plot percentages\n",
    "df_agg_perc=df_agg.div(df_agg.sum(1),axis=0)*100\n",
    "df_agg_perc.plot(figsize=(25,25))"
   ]
  },
  {
   "cell_type": "code",
   "execution_count": null,
   "metadata": {},
   "outputs": [],
   "source": [
    "#add variables \n",
    "df_BC = pd.read_excel('BC.xlsx')\n",
    "df_BC.rename(columns = {'Value':'recession period'}, inplace = True) \n",
    "df_BC = df_BC.set_index(pd.DatetimeIndex(df_BC['Date']))\n",
    "df_BC = df_BC.drop(columns=['Date'])\n",
    "result = pd.concat([df_BC, data], axis=1, join=\"inner\")"
   ]
  },
  {
   "cell_type": "code",
   "execution_count": null,
   "metadata": {},
   "outputs": [],
   "source": [
    "#plot a boxplot of a column\n",
    "boxplot = result.boxplot(column= ['nr of cases'],grid=True, rot=45, fontsize=15,figsize='10,20')"
   ]
  },
  {
   "cell_type": "code",
   "execution_count": null,
   "metadata": {},
   "outputs": [],
   "source": [
    "#look at correlations \n",
    "corr = result.corr()\n",
    "display(corr)"
   ]
  },
  {
   "cell_type": "code",
   "execution_count": null,
   "metadata": {},
   "outputs": [],
   "source": [
    "#plot a heatmap of correlations \n",
    "# for covariance, use .cov()\n",
    "corr = result.corr()\n",
    "plt.subplots(figsize=(20,15))\n",
    "ax = sn.heatmap(\n",
    "    corr, \n",
    "    vmin=-1, vmax=1, center=0,\n",
    "    cmap=sn.diverging_palette(20, 220, n=200),\n",
    "    square=True,\n",
    "    annot=True\n",
    ")\n",
    "\n",
    "ax.set_xticklabels(\n",
    "    ax.get_xticklabels(),\n",
    "    rotation=45,\n",
    "    horizontalalignment='right'\n",
    ");"
   ]
  },
  {
   "cell_type": "code",
   "execution_count": null,
   "metadata": {},
   "outputs": [],
   "source": [
    "#general statistics \n",
    "desc = pd.concat([\n",
    "    result.describe(),\n",
    "    result.agg(['skew','kurt'])\n",
    "]).T\n",
    "desc"
   ]
  },
  {
   "cell_type": "code",
   "execution_count": null,
   "metadata": {},
   "outputs": [],
   "source": [
    "#run different regressions \n",
    "#linear OLS\n",
    "import statsmodels.api as sm\n",
    "#different specifications \n",
    "X1 = result[['volatility_index','contraction','recession_period','expansion']] \n",
    "X2 = result2[['volatility_index','housing_prices_index','recession_period','Wilshire_5000_index','peak','through','contraction','expansion','GDP','unemp']] \n",
    "Y = result['nr_of_cases']\n",
    "X1 = sm.add_constant(X1)\n",
    "model1 = sm.OLS(Y, X1).fit(cov_type='HAC',cov_kwds={'maxlags':6})\n",
    "X2 = sm.add_constant(X2)\n",
    "model2 = sm.OLS(Y, X2.astype(float)).fit(cov_type='HAC',cov_kwds={'maxlags':6})"
   ]
  },
  {
   "cell_type": "code",
   "execution_count": null,
   "metadata": {},
   "outputs": [],
   "source": [
    "#try logit / probit\n",
    "#create binary dependent variable\n",
    "result['prob_of_fraud'] = np.where(result['nr_of_cases']>=1, '1', '0')\n",
    "#logit\n",
    "result['prob_of_fraud']=result['prob_of_fraud'].apply(pd.to_numeric)\n",
    "from statsmodels.formula.api import logit\n",
    "model_log = logit(\"prob_of_fraud ~ recession_period + volatility_index + Wilshire_5000_index + housing_prices_index + peak + through + contraction + expansion+GDP+unemp\", result).fit()\n",
    "from statsmodels.formula.api import probit\n",
    "model_prob = probit(\"prob_of_fraud ~ recession_period + volatility_index + Wilshire_5000_index + housing_prices_index + peak + through + contraction + expansion + GDP+unemp\", result).fit()"
   ]
  },
  {
   "cell_type": "code",
   "execution_count": null,
   "metadata": {},
   "outputs": [],
   "source": [
    "#GLM Bayesian Linear Regression\n",
    "import statsmodels.formula.api as smf\n",
    "formula = 'prob_of_fraud ~ recession_period + volatility_index + Wilshire_5000_index + housing_prices_index + peak + through + contraction + expansion + GDP + unemp'\n",
    "model_glm = smf.glm(formula = formula, data=result, family=sm.families.Binomial())\n",
    "a = model_glm.fit()\n",
    "print(a.summary())"
   ]
  },
  {
   "cell_type": "code",
   "execution_count": null,
   "metadata": {},
   "outputs": [],
   "source": [
    "#put the results together into a Stargazer table\n",
    "from stargazer.stargazer import Stargazer\n",
    "stargazer = Stargazer([model1,model2,model_log,model_prob,a])\n",
    "stargazer.custom_columns(['OlS w HAC errors', 'OLS w HAC and more var', 'logit','probit','GLM'],[1, 1,1,1,1,])\n",
    "stargazer"
   ]
  },
  {
   "cell_type": "code",
   "execution_count": null,
   "metadata": {},
   "outputs": [],
   "source": []
  }
 ],
 "metadata": {
  "kernelspec": {
   "display_name": "Python 3",
   "language": "python",
   "name": "python3"
  },
  "language_info": {
   "codemirror_mode": {
    "name": "ipython",
    "version": 3
   },
   "file_extension": ".py",
   "mimetype": "text/x-python",
   "name": "python",
   "nbconvert_exporter": "python",
   "pygments_lexer": "ipython3",
   "version": "3.8.3"
  }
 },
 "nbformat": 4,
 "nbformat_minor": 4
}
