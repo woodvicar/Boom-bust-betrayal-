{
 "cells": [
  {
   "cell_type": "code",
   "execution_count": null,
   "metadata": {},
   "outputs": [],
   "source": [
    "import pandas as pd\n",
    "import os\n",
    "import numpy as np\n",
    "import scipy as sp\n",
    "import seaborn as sns\n",
    "import matplotlib.pyplot as plt\n",
    "from datetime import datetime \n",
    "import statsmodels.api as sm\n",
    "import statsmodels.formula.api as smf\n",
    "from sklearn.linear_model import LinearRegression # for building a linear regression model\n",
    "from pyearth import Earth\n",
    "from sklearn.metrics import r2_score\n",
    "from sklearn.metrics import mean_squared_error\n",
    "import warnings\n",
    "import pygam as gam\n",
    "from pygam import LinearGAM,s,f\n",
    "from statsmodels.gam.api import GLMGam, BSplines\n",
    "from IPython.display import display\n",
    "pd.options.display.max_columns = None"
   ]
  },
  {
   "cell_type": "code",
   "execution_count": null,
   "metadata": {},
   "outputs": [],
   "source": [
    "df = pd.read_csv('result.csv')\n",
    "df = df.set_index(pd.DatetimeIndex(df['Date']))\n",
    "df.index.names = [\"Date\"]\n",
    "df=df.drop(columns=['Date'])\n",
    "display(df)"
   ]
  },
  {
   "cell_type": "code",
   "execution_count": null,
   "metadata": {},
   "outputs": [],
   "source": [
    "X = df[['volatility_index','peak','through','contraction','expansion','housing_prices_index','growth_GDP','unemp','lag_vol','through','crisis']]\n",
    "y1 = df['nr_of_cases']\n",
    "\n",
    "#MARS linear dependent var\n",
    "\n",
    "MARS_model = Earth(max_terms=500, max_degree=8)\n",
    "\n",
    "MARS_model_fitted = MARS_model.fit(X, y1)\n",
    "\n",
    "y_pred_mars = MARS_model_fitted.predict(X)\n",
    "print(MARS_model_fitted.summary())"
   ]
  },
  {
   "cell_type": "code",
   "execution_count": null,
   "metadata": {},
   "outputs": [],
   "source": [
    "from sklearn.metrics import mean_squared_error\n",
    "error=mean_squared_error(y1,y_pred_mars)\n",
    "error\n",
    "plt.plot(X,y1,'r.')\n",
    "#plt.plot(xTest,yTest,'b.')\n",
    "plt.plot(X,y_pred_mars,'b.')\n",
    "plt.xlabel('x')\n",
    "plt.ylabel('nr of fraud cases')\n",
    "plt.title('MARS regression')\n",
    "plt.show()"
   ]
  },
  {
   "cell_type": "code",
   "execution_count": null,
   "metadata": {},
   "outputs": [],
   "source": [
    "#before and after the hinge\n",
    "ddft=df[['growth_GDP']].copy()\n",
    "ddft.columns=['before_hinge']\n",
    "h=1.65897\n",
    "ix=ddft['before_hinge']<h\n",
    "ddft['after_hinge']=ddft['before_hinge']\n",
    "ddft.loc[ix,'after_hinge']=np.nan\n",
    "ddft.loc[~ix, 'before_hinge']=np.nan\n",
    "\n",
    "ddft3=df[['crisis']].copy()\n",
    "ddft3.columns=['before_hinge']\n",
    "ddft3['after_hinge']=ddft3['before_hinge']\n",
    "\n",
    "ddft2=df[['volatility_index']].copy()\n",
    "ddft2.columns=['before_hinge']\n",
    "h=22.64\n",
    "ix=ddft2['before_hinge']<h\n",
    "ddft2['after_hinge']=ddft2['before_hinge']\n",
    "ddft2.loc[ix,'after_hinge']=np.nan\n",
    "ddft2.loc[~ix, 'before_hinge']=np.nan\n",
    "ddft.plot()"
   ]
  },
  {
   "cell_type": "code",
   "execution_count": null,
   "metadata": {},
   "outputs": [],
   "source": [
    "#1 & crisis & No & -299.68 (from the output, non-pruned hinge)\n",
    "ddft3=df[['crisis']].copy()\n",
    "ddft3.columns=['before_hinge']\n",
    "ddft3['after_hinge']=ddft3['before_hinge']\n",
    "\n",
    "plt.figure(figsize=(20,8))\n",
    "ax=plt.subplot(111)\n",
    "ddft=df.query('crisis==1').copy()\n",
    "\n",
    "display((ddft['crisis']*-299).to_frame('H_1').plot(ax=ax, c='red', style='o'))"
   ]
  },
  {
   "cell_type": "code",
   "execution_count": null,
   "metadata": {},
   "outputs": [],
   "source": [
    "#GAM \n",
    "X = dft[['volatility_index','peak','expansion','housing_prices_index','GDP','unemp','lag_vol','through','crisis']].values\n",
    "y1 = dft['nr_of_cases'].values\n",
    "gam = LinearGAM(s(0) + s(1) + s(2) + s(3)+s(4)+s(5)+s(6)+s(7)+s(8),callbacks=['diffs']).gridsearch(X, y1)\n",
    "G = gam.summary()\n",
    "\n",
    "#or \n",
    "\n",
    "#linear dependent variable\n",
    "gam = LinearGAM(n_splines = 25, spline_order=4, callbacks=['diffs']).gridsearch(X,y1,lam=lams)\n",
    "G = gam.summary()"
   ]
  },
  {
   "cell_type": "code",
   "execution_count": null,
   "metadata": {},
   "outputs": [],
   "source": [
    "## partial dependence plotting \n",
    "plt.figure();\n",
    "fig, axs = plt.subplots(1,9);\n",
    "\n",
    "titles = ['volatility_index','peak','expansion','housing_prices_index','GDP','unemp','lag_vol','through','crisis']\n",
    "for i, ax in enumerate(axs):\n",
    "    XX = gam.generate_X_grid(term=i)\n",
    "    ax.plot(XX[:, i], gam.partial_dependence(term=i, X=XX))\n",
    "    ax.plot(XX[:, i], gam.partial_dependence(term=i, X=XX, width=.95)[1], c='r', ls='--')\n",
    "    if i == 0:\n",
    "        ax.set_ylim(-110,110)\n",
    "    ax.set_title(titles[i]);"
   ]
  }
 ],
 "metadata": {
  "kernelspec": {
   "display_name": "Python 3",
   "language": "python",
   "name": "python3"
  },
  "language_info": {
   "codemirror_mode": {
    "name": "ipython",
    "version": 3
   },
   "file_extension": ".py",
   "mimetype": "text/x-python",
   "name": "python",
   "nbconvert_exporter": "python",
   "pygments_lexer": "ipython3",
   "version": "3.8.3"
  }
 },
 "nbformat": 4,
 "nbformat_minor": 4
}
